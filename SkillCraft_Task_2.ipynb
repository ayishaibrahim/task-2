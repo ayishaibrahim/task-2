{
  "nbformat": 4,
  "nbformat_minor": 0,
  "metadata": {
    "colab": {
      "provenance": []
    },
    "kernelspec": {
      "name": "python3",
      "display_name": "Python 3"
    },
    "language_info": {
      "name": "python"
    }
  },
  "cells": [
    {
      "cell_type": "code",
      "execution_count": 1,
      "metadata": {
        "colab": {
          "base_uri": "https://localhost:8080/",
          "height": 1000
        },
        "id": "XWqovS7tV_1R",
        "outputId": "b473b0ba-8910-467c-9e0f-fc02cfdd29ed"
      },
      "outputs": [
        {
          "output_type": "stream",
          "name": "stdout",
          "text": [
            "Dataset Info:\n",
            "\n",
            "<class 'pandas.core.frame.DataFrame'>\n",
            "RangeIndex: 418 entries, 0 to 417\n",
            "Data columns (total 2 columns):\n",
            " #   Column       Non-Null Count  Dtype\n",
            "---  ------       --------------  -----\n",
            " 0   PassengerId  418 non-null    int64\n",
            " 1   Survived     418 non-null    int64\n",
            "dtypes: int64(2)\n",
            "memory usage: 6.7 KB\n",
            "None\n",
            "\n",
            "Missing Values:\n",
            "\n",
            "PassengerId    0\n",
            "Survived       0\n",
            "dtype: int64\n",
            "\n",
            "Summary Statistics:\n",
            "\n",
            "       PassengerId    Survived\n",
            "count   418.000000  418.000000\n",
            "mean   1100.500000    0.363636\n",
            "std     120.810458    0.481622\n",
            "min     892.000000    0.000000\n",
            "25%     996.250000    0.000000\n",
            "50%    1100.500000    0.000000\n",
            "75%    1204.750000    1.000000\n",
            "max    1309.000000    1.000000\n",
            "\n",
            "Survival Counts:\n",
            " Survived\n",
            "0    266\n",
            "1    152\n",
            "Name: count, dtype: int64\n"
          ]
        },
        {
          "output_type": "stream",
          "name": "stderr",
          "text": [
            "/tmp/ipython-input-1-3112412838.py:26: FutureWarning: \n",
            "\n",
            "Passing `palette` without assigning `hue` is deprecated and will be removed in v0.14.0. Assign the `x` variable to `hue` and set `legend=False` for the same effect.\n",
            "\n",
            "  sns.countplot(data=df, x='Survived', palette='viridis')\n"
          ]
        },
        {
          "output_type": "display_data",
          "data": {
            "text/plain": [
              "<Figure size 600x400 with 1 Axes>"
            ],
            "image/png": "[encoded data removed]"
          },
          "metadata": {}
        }
      ],
      "source": [
        "import pandas as pd\n",
        "import matplotlib.pyplot as plt\n",
        "import seaborn as sns\n",
        "\n",
        "# Load dataset\n",
        "df = pd.read_csv(\"/content/gender_submission.csv\")\n",
        "\n",
        "# 1. Basic info\n",
        "print(\"Dataset Info:\\n\")\n",
        "print(df.info())\n",
        "\n",
        "# 2. Check for missing values\n",
        "print(\"\\nMissing Values:\\n\")\n",
        "print(df.isnull().sum())\n",
        "\n",
        "# 3. Summary statistics\n",
        "print(\"\\nSummary Statistics:\\n\")\n",
        "print(df.describe())\n",
        "\n",
        "# 4. Distribution of Survived\n",
        "survival_counts = df['Survived'].value_counts()\n",
        "print(\"\\nSurvival Counts:\\n\", survival_counts)\n",
        "\n",
        "# 5. Plot survival distribution\n",
        "plt.figure(figsize=(6,4))\n",
        "sns.countplot(data=df, x='Survived', palette='viridis')\n",
        "plt.title('Survival Count')\n",
        "plt.xlabel('Survived (0 = No, 1 = Yes)')\n",
        "plt.ylabel('Number of Passengers')\n",
        "plt.show()\n"
      ]
    }
  ]
}